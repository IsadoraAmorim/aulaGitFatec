{
  "nbformat": 4,
  "nbformat_minor": 0,
  "metadata": {
    "colab": {
      "name": "Vetores.ipynb",
      "provenance": [],
      "include_colab_link": true
    },
    "kernelspec": {
      "name": "python3",
      "display_name": "Python 3"
    },
    "language_info": {
      "name": "python"
    }
  },
  "cells": [
    {
      "cell_type": "markdown",
      "metadata": {
        "id": "view-in-github",
        "colab_type": "text"
      },
      "source": [
        "<a href=\"https://colab.research.google.com/github/IsadoraAmorim/aulaGitFatec/blob/main/Vetores.ipynb\" target=\"_parent\"><img src=\"https://colab.research.google.com/assets/colab-badge.svg\" alt=\"Open In Colab\"/></a>"
      ]
    },
    {
      "cell_type": "markdown",
      "source": [
        "# Introdução ao Python\n",
        "\n",
        "## Exemplos de array"
      ],
      "metadata": {
        "id": "S5aH9eQrxb3T"
      }
    },
    {
      "cell_type": "code",
      "source": [
        "import numpy as np\n",
        "\n",
        "notas =  []\n",
        "media = 0\n",
        "soma = 0\n",
        "contaElementos = 0\n",
        "\n",
        "for n in range(0,5,1):\n",
        "  notas.append(float(input(\"Entre com a nota do aluno: \")))\n",
        "\n",
        "print(notas[1])\n",
        "\n",
        "for x in range(0,5,1):\n",
        "  soma += notas[x]\n",
        "  contaElementos+=1\n",
        "\n",
        "media = soma/contaElementos\n",
        "print(\"A media das notas -->\",media)\n",
        "\n",
        "#utilizando numpy\n",
        "#convert list to numpy array\n",
        "x = np.array(notas)\n",
        "print(\"A media com numpy -->\", np.mean(notas))\n",
        "print(\"A media com numpy array -->\", x.mean())\n",
        "print(\"A soma do vetor com numpy -->\", np.sum(notas), \" - \", x.sum())\n",
        "print(\"O maior elemento -->\", np.max(notas), \" - \", x.max())\n",
        "print(\"O menor elemento -->\", np.min(notas), \" - \", x.min())"
      ],
      "metadata": {
        "colab": {
          "base_uri": "https://localhost:8080/"
        },
        "id": "x6Tt1iE9x3gJ",
        "outputId": "26e42bd5-4941-4871-8e3e-06df250f152a"
      },
      "execution_count": null,
      "outputs": [
        {
          "output_type": "stream",
          "name": "stdout",
          "text": [
            "Entre com a nota do aluno: 1\n",
            "Entre com a nota do aluno: 2\n",
            "Entre com a nota do aluno: 3\n",
            "Entre com a nota do aluno: 4\n",
            "Entre com a nota do aluno: 5\n",
            "2.0\n",
            "A media das notas --> 3.0\n",
            "A media com numpy --> 3.0\n",
            "A media com numpy array --> 3.0\n",
            "A soma do vetor com numpy --> 15.0  -  15.0\n",
            "O maior elemento --> 5.0  -  5.0\n",
            "O menor elemento --> 1.0  -  1.0\n"
          ]
        }
      ]
    },
    {
      "cell_type": "markdown",
      "source": [
        " Faça um programa que leia 10 números inteiros, armazene-os em um array e depois percorra o array somando todos os valores. No final, mostre a soma."
      ],
      "metadata": {
        "id": "TU51InVM6Fuz"
      }
    },
    {
      "cell_type": "code",
      "source": [
        "import numpy as np\n",
        "\n",
        "num = []\n",
        "soma = 0\n",
        "\n",
        "for n in range(0,10,1):\n",
        "  num.append(int(input(\"Entre com os numeros: \")))\n",
        " \n",
        "for x in range(0,10,1):\n",
        "  soma += num[x]\n",
        "\n",
        "print(\"\\nA soma dos números digitados é:\", soma)"
      ],
      "metadata": {
        "id": "fd0T26ph6RDl",
        "colab": {
          "base_uri": "https://localhost:8080/"
        },
        "outputId": "c5d9589f-2a2c-4da9-f591-1e8f3e9dfd3f"
      },
      "execution_count": null,
      "outputs": [
        {
          "output_type": "stream",
          "name": "stdout",
          "text": [
            "Entre com os numeros: 1\n",
            "Entre com os numeros: 2\n",
            "Entre com os numeros: 3\n",
            "Entre com os numeros: 4\n",
            "Entre com os numeros: 5\n",
            "Entre com os numeros: 6\n",
            "Entre com os numeros: 7\n",
            "Entre com os numeros: 8\n",
            "Entre com os numeros: 9\n",
            "Entre com os numeros: 10\n",
            "A soma dos números digitados é: 55.0\n"
          ]
        }
      ]
    },
    {
      "cell_type": "markdown",
      "source": [
        "Faça um programa que leia 5 números inteiros, armazene-os em um array e some todos os valores cujo índice seja par. Mostre a soma no final"
      ],
      "metadata": {
        "id": "dQ3C_VV26RpE"
      }
    },
    {
      "cell_type": "code",
      "source": [
        "import numpy as np\n",
        "\n",
        "num = []\n",
        "soma = 0\n",
        "\n",
        "for n in range(0,5,1):\n",
        "  num.append(int(input(\"Entre com os numeros: \")))\n",
        "\n",
        "for x in range(0,5,1):\n",
        "  if num[x] % 2 == 0 :\n",
        "    soma += num[x]\n",
        "\n",
        "print(\"\\nA soma dos números pares digitados é:\", soma)"
      ],
      "metadata": {
        "id": "CAzyKCxi6cgw",
        "colab": {
          "base_uri": "https://localhost:8080/"
        },
        "outputId": "204fb85e-eb3e-409e-83ae-26ae5558a427"
      },
      "execution_count": null,
      "outputs": [
        {
          "output_type": "stream",
          "name": "stdout",
          "text": [
            "Entre com os numeros: 22\n",
            "Entre com os numeros: 22\n",
            "Entre com os numeros: 33\n",
            "Entre com os numeros: 1\n",
            "Entre com os numeros: 2\n",
            "\n",
            "A soma dos números digitados é: 46.0\n"
          ]
        }
      ]
    },
    {
      "cell_type": "markdown",
      "source": [
        "Faça um programa que leia 5 números inteiros, armazene-os em um array e exiba-os em ordem inversa."
      ],
      "metadata": {
        "id": "hea2woco6dXY"
      }
    },
    {
      "cell_type": "code",
      "source": [
        "import numpy as np\n",
        "\n",
        "num = []\n",
        "\n",
        "for n in range(0,5,1):\n",
        "  num.append(int(input(\"Entre com os numeros: \")))\n",
        "\n",
        "for x in reversed(range(0,5,1)):\n",
        "  print(num[x])"
      ],
      "metadata": {
        "id": "3TjQ7FeR6hcC",
        "colab": {
          "base_uri": "https://localhost:8080/"
        },
        "outputId": "1d906908-c957-4fd3-cfad-42b51e3cffe1"
      },
      "execution_count": null,
      "outputs": [
        {
          "output_type": "stream",
          "name": "stdout",
          "text": [
            "Entre com os numeros: 1\n",
            "Entre com os numeros: 2\n",
            "Entre com os numeros: 3\n",
            "Entre com os numeros: 45\n",
            "Entre com os numeros: 5\n",
            "5\n",
            "45\n",
            "3\n",
            "2\n",
            "1\n"
          ]
        }
      ]
    },
    {
      "cell_type": "markdown",
      "source": [
        "Faça um programa que leia 5 números inteiros, armazene-os em um array e mostre a soma de todos os números pares e a soma de todos os números ímpares."
      ],
      "metadata": {
        "id": "VdnPJEoy6ihH"
      }
    },
    {
      "cell_type": "code",
      "source": [
        "import numpy as np\n",
        "\n",
        "num = []\n",
        "somapar = 0\n",
        "somaimpar = 0\n",
        "\n",
        "for n in range(0,5,1):\n",
        "  num.append(int(input(\"Entre com os numeros: \")))\n",
        "\n",
        "for x in range(0,5,1):\n",
        "  if num[x] % 2 == 0 :\n",
        "    somapar += num[x]\n",
        "  else:\n",
        "    somaimpar += num[x]\n",
        "\n",
        "print(\"\\nA soma dos números pares digitados é:\", somapar)\n",
        "print(\"\\nA soma dos números impares digitados é:\", somaimpar)"
      ],
      "metadata": {
        "id": "kOs3ABXb6nMJ",
        "colab": {
          "base_uri": "https://localhost:8080/"
        },
        "outputId": "3026502e-c9dd-400e-f254-973b92326673"
      },
      "execution_count": null,
      "outputs": [
        {
          "output_type": "stream",
          "name": "stdout",
          "text": [
            "Entre com os numeros: 1\n",
            "Entre com os numeros: 2\n",
            "Entre com os numeros: 3\n",
            "Entre com os numeros: 4\n",
            "Entre com os numeros: 5\n",
            "\n",
            "A soma dos números pares digitados é: 6\n",
            "\n",
            "A soma dos números impares digitados é: 9\n"
          ]
        }
      ]
    }
  ]
}